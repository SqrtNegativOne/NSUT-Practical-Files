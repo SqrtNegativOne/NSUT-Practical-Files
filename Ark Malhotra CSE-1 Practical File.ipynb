{
 "cells": [
  {
   "cell_type": "code",
   "execution_count": 1,
   "metadata": {},
   "outputs": [
    {
     "name": "stdout",
     "output_type": "stream",
     "text": [
      "12\n"
     ]
    }
   ],
   "source": [
    "# Calculator\n",
    "x = int(input(\"Enter a number: \"))\n",
    "y = int(input(\"Enter a number: \"))\n",
    "o = input(\"Enter the operator: \")\n",
    "\n",
    "match (o):\n",
    "    case \"+\":\n",
    "        print(x+y)\n",
    "    case \"-\":\n",
    "        print(x-y)\n",
    "    case \"*\":\n",
    "        print(x*y)\n",
    "    case \"/\":\n",
    "        print(x/y)\n",
    "    case _:\n",
    "        print(\"Invalid.\")"
   ]
  },
  {
   "cell_type": "code",
   "execution_count": 7,
   "metadata": {},
   "outputs": [
    {
     "name": "stdout",
     "output_type": "stream",
     "text": [
      "Enter a number you want to check the primeness of: 23\n",
      "True\n"
     ]
    }
   ],
   "source": [
    "# Check if a number is prime or not.\n",
    "def isPrime(n):\n",
    "    for i in range(2, n//2+1):\n",
    "        if n % i == 0:\n",
    "            return False\n",
    "    return True\n",
    "\n",
    "print(isPrime(int(input(\"Enter a number you want to check the primeness of: \"))))"
   ]
  },
  {
   "cell_type": "code",
   "execution_count": 3,
   "metadata": {},
   "outputs": [
    {
     "name": "stdout",
     "output_type": "stream",
     "text": [
      "[1, 1, 2, 3, 5, 8, 13, 21, 34, 55]\n"
     ]
    }
   ],
   "source": [
    "# Fibbonacci\n",
    "def fibbonacciSequence(item_count):\n",
    "    sequence = [1,1]\n",
    "    for i in range(2, item_count):\n",
    "        sequence.append(sequence[i-1] + sequence[i-2])\n",
    "    return sequence\n",
    "\n",
    "print(fibbonacciSequence(int(input(\"Till how many numbers do you want the Fibbonacci Sequence? \"))))"
   ]
  },
  {
   "cell_type": "code",
   "execution_count": 1,
   "metadata": {},
   "outputs": [
    {
     "name": "stdout",
     "output_type": "stream",
     "text": [
      "Number is odd.\n"
     ]
    }
   ],
   "source": [
    "# Check if a number is even or not\n",
    "if int(input('Enter a number: ')) % 2 == 0: print('Number is even.')\n",
    "else: print('Number is odd.')"
   ]
  },
  {
   "cell_type": "code",
   "execution_count": 2,
   "metadata": {},
   "outputs": [
    {
     "name": "stdout",
     "output_type": "stream",
     "text": [
      "Year is leap\n"
     ]
    }
   ],
   "source": [
    "# Check if an year is a leap year or not\n",
    "if int(input('Enter an year: ')) % 4 == 0: print('Year is a leap year.')\n",
    "else: print('Year is not a leap year')"
   ]
  }
 ],
 "metadata": {
  "kernelspec": {
   "display_name": "Python 3",
   "language": "python",
   "name": "python3"
  },
  "language_info": {
   "codemirror_mode": {
    "name": "ipython",
    "version": 3
   },
   "file_extension": ".py",
   "mimetype": "text/x-python",
   "name": "python",
   "nbconvert_exporter": "python",
   "pygments_lexer": "ipython3",
   "version": "3.12.5"
  }
 },
 "nbformat": 4,
 "nbformat_minor": 4
}
